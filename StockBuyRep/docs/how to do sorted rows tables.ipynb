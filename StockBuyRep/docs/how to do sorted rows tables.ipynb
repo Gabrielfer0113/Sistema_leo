{
 "cells": [
  {
   "cell_type": "code",
   "execution_count": null,
   "metadata": {},
   "outputs": [],
   "source": [
    "import json"
   ]
  },
  {
   "cell_type": "code",
   "execution_count": null,
   "metadata": {},
   "outputs": [],
   "source": [
    "with open('konemetal_report.json', 'r') as file:\n",
    "    relatorio = json.load(file)\n",
    "\n",
    "relatorio = relatorio['report']\n",
    "display(relatorio)"
   ]
  },
  {
   "cell_type": "code",
   "execution_count": null,
   "metadata": {},
   "outputs": [],
   "source": [
    "ordenar_bitola = sorted(zip(\n",
    "    relatorio[\"bitola\"], relatorio[\"material\"], relatorio[\"norma\"],\n",
    "    relatorio[\"dimensao\"], relatorio[\"milimetros\"], relatorio[\"fabricacao\"],\n",
    "    relatorio[\"urgente\"], relatorio[\"atrasado\"], relatorio[\"documento\"],\n",
    "    relatorio[\"data\"], relatorio[\"quilos\"]))\n",
    "\n",
    "\n",
    "ordenar_bitola"
   ]
  },
  {
   "cell_type": "code",
   "execution_count": null,
   "metadata": {},
   "outputs": [],
   "source": [
    "# voltando pra forma de dicionario inicial mas ordenado\n",
    "dic_ordenado_bitola = {\n",
    "    \"bitola\": [item[0] for item in ordenar_bitola],\n",
    "    \"material\": [item[1] for item in ordenar_bitola],\n",
    "    \"norma\": [item[2] for item in ordenar_bitola],\n",
    "    \"dimensao\": [item[3] for item in ordenar_bitola],\n",
    "    \"milimetros\": [item[4] for item in ordenar_bitola],\n",
    "    \"fabricacao\": [item[5] for item in ordenar_bitola],\n",
    "    \"urgente\": [item[6] for item in ordenar_bitola],\n",
    "    \"atrasado\": [item[7] for item in ordenar_bitola],\n",
    "    \"documento\": [item[8] for item in ordenar_bitola],\n",
    "    \"data\": [item[9] for item in ordenar_bitola],\n",
    "    \"quilos\": [item[10] for item in ordenar_bitola]\n",
    "}\n",
    "\n",
    "dic_ordenado_bitola"
   ]
  }
 ],
 "metadata": {
  "kernelspec": {
   "display_name": "Python 3.6.2 64-bit",
   "language": "python",
   "name": "python3"
  },
  "language_info": {
   "codemirror_mode": {
    "name": "ipython",
    "version": 3
   },
   "file_extension": ".py",
   "mimetype": "text/x-python",
   "name": "python",
   "nbconvert_exporter": "python",
   "pygments_lexer": "ipython3",
   "version": "3.6.2"
  },
  "orig_nbformat": 4,
  "vscode": {
   "interpreter": {
    "hash": "56eed732f029be6f82b804c09b1efa7dd26cd4ee13c203749f8ef9c3448863d5"
   }
  }
 },
 "nbformat": 4,
 "nbformat_minor": 2
}
